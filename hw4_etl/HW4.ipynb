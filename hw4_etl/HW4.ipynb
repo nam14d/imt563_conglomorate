{
 "metadata": {
  "language_info": {
   "codemirror_mode": {
    "name": "ipython",
    "version": 3
   },
   "file_extension": ".py",
   "mimetype": "text/x-python",
   "name": "python",
   "nbconvert_exporter": "python",
   "pygments_lexer": "ipython3",
   "version": "3.8.3-final"
  },
  "orig_nbformat": 2,
  "kernelspec": {
   "name": "python3",
   "display_name": "Python 3",
   "language": "python"
  }
 },
 "nbformat": 4,
 "nbformat_minor": 2,
 "cells": [
  {
   "cell_type": "code",
   "execution_count": null,
   "metadata": {},
   "outputs": [],
   "source": [
    "import pandas as pd\n",
    "import re\n",
    "import requests\n",
    "import pymssql\n",
    "from bs4 import BeautifulSoup"
   ]
  },
  {
   "cell_type": "code",
   "execution_count": null,
   "metadata": {
    "tags": []
   },
   "outputs": [],
   "source": [
    "#################### Single Look and Exploration #########################################\n",
    "\n",
    "\n",
    "#print(soup.prettify())\n",
    "\n",
    "#results = soup.findAll('div', {'class':'lister-item-content'})\n",
    "#result = results[0]\n",
    "#title = result.findAll('a')[0].text\n",
    "#year = result.findAll('span')[1].text\n",
    "\n",
    "\n",
    "results = soup.findAll('div', {'class':'lister-item mode-detail'})\n",
    "movie = results[0]\n",
    "\n",
    "title = movie.find('h3').a.text\n",
    "release_year = int(re.search(\"\\d\\d\\d\\d\", movie.find('h3').findAll('span')[1].text).group(0))\n",
    "age_rating = movie.find('p', {'class': 'text-muted text-small'}).find('span').text\n",
    "runtime = int(re.search(\"\\d*\", movie.find('p', {'class': 'text-muted text-small'}).find('span', {'class':'runtime'}).text).group(0))\n",
    "genres = movie.find('p', {'class': 'text-muted text-small'}).find('span', {'class':'genre'}).text\n",
    "rating = float(movie.find('div', {'class': 'ipl-rating-widget'}).find('span', {'class':'ipl-rating-star__rating'}).text)\n",
    "metascore = int(movie.find('div', {'class':'inline-block ratings-metascore'}).span.text)\n",
    "director = movie.findAll('p')[2].a.text\n",
    "votes = movie.findAll('p')[3].find('span', {'name':'nv'}).text\n",
    "gross = int(movie.findAll('p')[3].findAll('span', {'name':'nv'})[1].get('data-value').replace(\",\",''))"
   ]
  },
  {
   "cell_type": "code",
   "execution_count": null,
   "metadata": {},
   "outputs": [],
   "source": [
    "#################### Scale the prior setup ########################################\n",
    "def itJustWorks(TotalPages):\n",
    "# Input: Function receives the number of sequential URL pages as a parameter \n",
    "\n",
    "# Output: a list of dictionaries with attribute names as a key: attribute values as value; this setup is then easily converted into a pandas DataFrae object\n",
    "\n",
    "# Initialize list to hold dictionaries\n",
    "    df = []\n",
    "\n",
    "    for pageNum in range(TotalPages):\n",
    "        pageurl = 'https://www.imdb.com/list/ls021161997/?st_dt=&mode=detail&page={0}&sort=num_votes,desc'.format(pageNum + 1)\n",
    "        page = requests.get(pageurl)\n",
    "        \n",
    "        if (page.status_code != 200):\n",
    "            raise NameError(\"Unsuccessful scraping of page \" + pageNum)\n",
    "\n",
    "        soup = BeautifulSoup(page.text, 'html.parser')\n",
    "        results = soup.findAll('div', {'class':'lister-item mode-detail'})\n",
    "\n",
    "\n",
    "        for i in range(0, len(results)):\n",
    "            movie = results[i]\n",
    "            data = {\n",
    "                'title' : movie.find('h3').a.text,\n",
    "                'release_year' : int(re.search(\"\\d\\d\\d\\d\", movie.find('h3').findAll('span')[1].text).group(0)),\n",
    "                'age_rating' : movie.find('p', {'class': 'text-muted text-small'}).find('span').text,\n",
    "                'runtime' : int(re.search(\"\\d*\", movie.find('p', {'class': 'text-muted text-small'}).find('span', {'class':'runtime'}).text).group(0)),\n",
    "                'rating' : float(movie.find('div', {'class': 'ipl-rating-widget'}).find('span', {'class':'ipl-rating-star__rating'}).text),\n",
    "                'director' : movie.findAll('p')[2].a.text,\n",
    "                'votes' : int(movie.findAll('p')[3].find('span', {'name':'nv'}).text.replace(\",\",'')),\n",
    "            }\n",
    "            print(data['title'])\n",
    "            try:\n",
    "                data['metascore'] = int(movie.find('div', {'class':'inline-block ratings-metascore'}).span.text)\n",
    "            except AttributeError:\n",
    "                data['metascore'] = -1\n",
    "            try:\n",
    "                data['gross'] = int(movie.findAll('p')[3].findAll('span', {'name':'nv'})[1].get('data-value').replace(\",\",''))\n",
    "            except (AttributeError, IndexError):\n",
    "                data['gross'] = -1\n",
    "        \n",
    "        \n",
    "            df.append(data)\n",
    "    df = pd.DataFrame(df, columns = ['title', 'release_year', 'age_rating', 'runtime','rating','metascore', 'director', 'votes', 'gross'])\n",
    "    \n",
    "    return(df)"
   ]
  },
  {
   "cell_type": "code",
   "execution_count": null,
   "metadata": {},
   "outputs": [],
   "source": [
    "## Run prior function through all pages of the imdb website (placed 10 rather than the value from the webpage html because the latter didn't exist. \n",
    "# They relied on directional arrows to guide the user through the list.)\n",
    "\n",
    "df = itJustWorks(10)\n",
    "print(df)\n",
    "df.to_csv(path_or_buf='movies.csv')"
   ]
  },
  {
   "cell_type": "code",
   "execution_count": null,
   "metadata": {},
   "outputs": [],
   "source": [
    "## Connect to Azure DB\n",
    "\n",
    "conn = pymssql.connect(server, username, password, database)\n",
    "cursor = conn.cursor()"
   ]
  },
  {
   "cell_type": "code",
   "execution_count": null,
   "metadata": {},
   "outputs": [],
   "source": [
    "### Insert From File and Close Connection\n",
    "\n",
    "# Drop index attribute (not needed)\n",
    "df = pd.read_csv('movies.csv').drop('Unnamed: 0', axis = 1)\n",
    "\n",
    "# Get rid of title and author name apostrophies (the insertion code below cannot work with double quotes; this cost me so much time)\n",
    "df['title'] = df['title'].str.replace(\"\\'\", \"\")\n",
    "df['director'] = df['director'].str.replace(\"\\'\", \"\")\n",
    "\n",
    "for index, row in df.iterrows():\n",
    "\n",
    "    cursor.execute(\"INSERT INTO dbo.nmarangi_spookymovies (title, release_year, age_rating, runtime, rating, metascore, director, votes, gross_profit) values(%s,%d,%s,%d,%f,%d,%s,%d,%d)\" % (\"\\'\" + row.title + \"\\'\", row.release_year, \"\\'\" + row.age_rating + \"\\'\", row.runtime, row.rating, row.metascore, \"\\'\" + row.director + \"\\'\", row.votes, row.gross))\n",
    "    print(index)\n",
    "conn.commit()\n",
    "conn.close()"
   ]
  }
 ]
}